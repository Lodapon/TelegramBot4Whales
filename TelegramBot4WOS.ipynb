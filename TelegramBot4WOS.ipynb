{
 "cells": [
  {
   "cell_type": "markdown",
   "metadata": {},
   "source": [
    "# Telegram Bot for Whaleoffspring"
   ]
  },
  {
   "cell_type": "code",
   "execution_count": null,
   "metadata": {},
   "outputs": [],
   "source": [
    "import telebot\n",
    "import time\n",
    "from PIL import Image\n",
    "import requests\n",
    "from io import BytesIO\n",
    "import os"
   ]
  },
  {
   "cell_type": "code",
   "execution_count": null,
   "metadata": {},
   "outputs": [],
   "source": [
    "TOKEN = \"1608557385:AAH_YHxWOGr2Wd2TSk8nO-oc6wdpOZ3Gezo\"\n",
    "\n",
    "bot = telebot.TeleBot(TOKEN)"
   ]
  },
  {
   "cell_type": "code",
   "execution_count": null,
   "metadata": {},
   "outputs": [],
   "source": [
    "@bot.message_handler(commands=[\"start\"])\n",
    "def start(message):\n",
    "    print(message.text)\n",
    "    \n",
    "#These for bot to reply to specific command with /\n",
    "@bot.message_handler(commands=[\"hello\",\"hi\"])\n",
    "def hello(message):\n",
    "    bot.send_message(message.chat.id, \"Hello there!\")\n",
    "    \n",
    "@bot.message_handler(commands=[\"contract\",\"Contract\"])\n",
    "def contract(message):\n",
    "    bot.send_message(message.chat.id, \"0x6402af56201e2ba8dc6642750b0a3775d2104d14\")\n",
    "    \n",
    "@bot.message_handler(commands=[\"graph\",\"Graph\",\"chart\",\"Chart\"])\n",
    "def graph(message):\n",
    "    bot.send_message(message.chat.id, \"https://poocoin.app/tokens/0x6402af56201e2ba8dc6642750b0a3775d2104d14\")\n",
    "    \n",
    "@bot.message_handler(commands=[\"web\",\"site\",\"Web\",\"Site\",\"Website\"])\n",
    "def website(message):\n",
    "    bot.send_message(message.chat.id, \"https://whaleoffspring.com/\")\n",
    "    \n",
    "# To send an Image\n",
    "airdrop1stIMGlink = \"https://whaleoffspring.com/images/airdropprize_1st.png\"\n",
    "@bot.message_handler(commands=[\"lotto\",\"Lotto\",\"airdrop\",\"Airdrop\",\"Promotion\",\"promotion\"])\n",
    "def lotto(message):\n",
    "    response = requests.get(airdrop1stIMGlink)\n",
    "    imgnet = Image.open(BytesIO(response.content))\n",
    "    #Send the photo\n",
    "    bot.send_photo(message.chat.id, imgnet)\n",
    "    \n",
    "# To send Video\n",
    "vdourl = \"https://whaleoffspring.com/images/underwater30.mp4\"\n",
    "def dl_file(url, name=\"video.mp4\"):\n",
    "    r = requests.get(url, stream=True)\n",
    "    with open(name, 'wb') as f:\n",
    "        for chunk in r.iter_content(chunk_size=1024):\n",
    "            if chunk:\n",
    "                f.write(chunk)\n",
    "@bot.message_handler(commands=[\"vdo\",\"bg\",\"underwater\"])\n",
    "def vdonet(message):\n",
    "    dl_file(vdourl, \"bg.mp4\")\n",
    "    vidnet = open(\"bg.mp4\",\"rb\")\n",
    "    bot.send_video(message.chat.id, vidnet)\n",
    "                            \n",
    "# To send sticker\n",
    "@bot.message_handler(commands=[\"hold\",\"hodl\"])\n",
    "def hodl(message):\n",
    "    bot.send_sticker(message.chat.id, \"CAACAgUAAxkBAAECUg1gpjB126eFHXWjwQ3h8FZ8u29O2QACygIAA_uYVNz9lXeiMVtgHwQ\")\n",
    "@bot.message_handler(commands=[\"moon\",\"Moon\",\"tothemoon\"])\n",
    "def moon(message):\n",
    "    bot.send_sticker(message.chat.id, \"CAACAgUAAxkBAAECUg9gpjh15CeYVw2InsN1oHr3481FewACEwMAAjikmVS8RTebivEAAbIfBA\")\n",
    "@bot.message_handler(commands=[\"lambo\",\"sport\"])\n",
    "def lambo(message):\n",
    "    bot.send_sticker(message.chat.id, \"CAACAgUAAxkBAAECUhFgpjjN7SfihfpVDQcfXFrsTVq4vAACiwQAApJ-mFRmIH9Y6TpRlR8E\")\n",
    "\n",
    "while True:\n",
    "    try:\n",
    "        bot.polling()\n",
    "    except:\n",
    "        time.sleep(5)"
   ]
  },
  {
   "cell_type": "code",
   "execution_count": null,
   "metadata": {},
   "outputs": [],
   "source": []
  },
  {
   "cell_type": "code",
   "execution_count": null,
   "metadata": {},
   "outputs": [],
   "source": []
  }
 ],
 "metadata": {
  "kernelspec": {
   "display_name": "Python 3",
   "language": "python",
   "name": "python3"
  },
  "language_info": {
   "codemirror_mode": {
    "name": "ipython",
    "version": 3
   },
   "file_extension": ".py",
   "mimetype": "text/x-python",
   "name": "python",
   "nbconvert_exporter": "python",
   "pygments_lexer": "ipython3",
   "version": "3.6.8"
  }
 },
 "nbformat": 4,
 "nbformat_minor": 2
}
